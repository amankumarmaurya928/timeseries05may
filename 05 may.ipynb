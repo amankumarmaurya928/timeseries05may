{
 "cells": [
  {
   "cell_type": "code",
   "execution_count": 1,
   "id": "2b2ea214-57c8-4f1d-a551-bbf03685ab0a",
   "metadata": {},
   "outputs": [
    {
     "data": {
      "text/plain": [
       "'We begin by averaging a year’s worth of data at a time in order to eliminate the seasonal component and reduce the\\n   irregular component. A moving average is a new series created by averaging nearby observations of a time series and \\n   then moving along to the next period; this produces a less bumpy series. A full year at a time is averaged so that \\n   the seasonal components always contribute in the same way regardless of where you are in the year.\\n                Moving average = Trend × Cyclic\\n'"
      ]
     },
     "execution_count": 1,
     "metadata": {},
     "output_type": "execute_result"
    }
   ],
   "source": [
    "# Q1\n",
    "'''We begin by averaging a year’s worth of data at a time in order to eliminate the seasonal component and reduce the\n",
    "   irregular component. A moving average is a new series created by averaging nearby observations of a time series and \n",
    "   then moving along to the next period; this produces a less bumpy series. A full year at a time is averaged so that \n",
    "   the seasonal components always contribute in the same way regardless of where you are in the year.\n",
    "                Moving average = Trend × Cyclic\n",
    "'''"
   ]
  },
  {
   "cell_type": "code",
   "execution_count": 3,
   "id": "d67b6b8c-b5a1-4b21-945b-1583bd5ec399",
   "metadata": {},
   "outputs": [
    {
     "data": {
      "text/plain": [
       "'There are several ways to identify seasonal cycles in time series data. First, if the seasonal pattern is very clear,\\n   you may be able to detect it in a plot of the time series \\n        (time = t on the X-axis; X at time t on the Y-axis). \\n    Second, you can obtain a lagged autocorrelation function.\\n    Once a trend has been established, any seasonal variation can be calculated. The seasonal variation can be assumed to\\n    be the difference between the actual sales and the trend (three-month moving average) value. Seasonal variations can\\n    be calculated using the additive or multiplicative models.\\n'"
      ]
     },
     "execution_count": 3,
     "metadata": {},
     "output_type": "execute_result"
    }
   ],
   "source": [
    "# Q2\n",
    "'''There are several ways to identify seasonal cycles in time series data. First, if the seasonal pattern is very clear,\n",
    "   you may be able to detect it in a plot of the time series \n",
    "        (time = t on the X-axis; X at time t on the Y-axis). \n",
    "    Second, you can obtain a lagged autocorrelation function.\n",
    "    Once a trend has been established, any seasonal variation can be calculated. The seasonal variation can be assumed to\n",
    "    be the difference between the actual sales and the trend (three-month moving average) value. Seasonal variations can\n",
    "    be calculated using the additive or multiplicative models.\n",
    "'''"
   ]
  },
  {
   "cell_type": "code",
   "execution_count": 4,
   "id": "9d1d4246-8ec1-45b2-b6f8-3a51e2b968e4",
   "metadata": {},
   "outputs": [
    {
     "data": {
      "text/plain": [
       "\"Seasonal adjustment is the process of estimating and then removing from a time series influences that are systematic\\n   and calendar related. Observed data needs to be seasonally adjusted as seasonal effects can conceal both the true\\n   underlying movement in the series, as well as certain non-seasonal characteristics which may be of interest to\\n   analysts.\\n   he exactly repeating seasonal component indicates the effects of the time of year. The medium-term cyclic component\\n   consists of the gradual ups and downs that do not repeat each year. The short-term, random irregular component \\n   represents the leftover, residual variation that can't be explained. The formula for the trend-seasonal time-series \\n   model is\\n                 Data = Trend × Seasonal × Cyclic × Irregular\\n\""
      ]
     },
     "execution_count": 4,
     "metadata": {},
     "output_type": "execute_result"
    }
   ],
   "source": [
    "# Q3\n",
    "'''Seasonal adjustment is the process of estimating and then removing from a time series influences that are systematic\n",
    "   and calendar related. Observed data needs to be seasonally adjusted as seasonal effects can conceal both the true\n",
    "   underlying movement in the series, as well as certain non-seasonal characteristics which may be of interest to\n",
    "   analysts.\n",
    "   he exactly repeating seasonal component indicates the effects of the time of year. The medium-term cyclic component\n",
    "   consists of the gradual ups and downs that do not repeat each year. The short-term, random irregular component \n",
    "   represents the leftover, residual variation that can't be explained. The formula for the trend-seasonal time-series \n",
    "   model is\n",
    "                 Data = Trend × Seasonal × Cyclic × Irregular\n",
    "'''"
   ]
  },
  {
   "cell_type": "code",
   "execution_count": 5,
   "id": "2cf168c4-f41b-48fe-b1d4-163eb60d4051",
   "metadata": {},
   "outputs": [
    {
     "data": {
      "text/plain": [
       "'Autoregression is a time series model that uses observations from previous time steps as input to a regression \\n   equation to predict the value at the next time step. It is a very simple idea that can result in accurate forecasts on\\n   a range of time series problems.\\n   Linear regression is widely used in practice and adapts naturally to even complex forecasting tasks. During training,\\n   the regression algorithm learns values for the parameters weight_1 , weight_2 , and bias that best fit the target.\\n'"
      ]
     },
     "execution_count": 5,
     "metadata": {},
     "output_type": "execute_result"
    }
   ],
   "source": [
    "# Q4\n",
    "'''Autoregression is a time series model that uses observations from previous time steps as input to a regression \n",
    "   equation to predict the value at the next time step. It is a very simple idea that can result in accurate forecasts on\n",
    "   a range of time series problems.\n",
    "   Linear regression is widely used in practice and adapts naturally to even complex forecasting tasks. During training,\n",
    "   the regression algorithm learns values for the parameters weight_1 , weight_2 , and bias that best fit the target.\n",
    "'''"
   ]
  },
  {
   "cell_type": "code",
   "execution_count": 6,
   "id": "ff36e4f2-6bd8-4c70-bfad-4a247f0313f5",
   "metadata": {},
   "outputs": [
    {
     "data": {
      "text/plain": [
       "'An autoregressive (AR) model forecasts future behavior based on past behavior data. This type of analysis is used when\\n   there is a correlation between the time series values and their preceding and succeeding values. Autoregressive\\n   modeling uses only past data to predict future behavior.\\n   Autoregressive models are based on the idea that past events can help us predict future events. For example, if we\\n   know that the stock market has been going up for the past few days, we might expect it to continue going up in the \\n   future.\\n'"
      ]
     },
     "execution_count": 6,
     "metadata": {},
     "output_type": "execute_result"
    }
   ],
   "source": [
    "# Q5\n",
    "'''An autoregressive (AR) model forecasts future behavior based on past behavior data. This type of analysis is used when\n",
    "   there is a correlation between the time series values and their preceding and succeeding values. Autoregressive\n",
    "   modeling uses only past data to predict future behavior.\n",
    "   Autoregressive models are based on the idea that past events can help us predict future events. For example, if we\n",
    "   know that the stock market has been going up for the past few days, we might expect it to continue going up in the \n",
    "   future.\n",
    "'''"
   ]
  },
  {
   "cell_type": "code",
   "execution_count": 7,
   "id": "3eecf2e9-7fd5-445a-8633-08bc5c759e6b",
   "metadata": {},
   "outputs": [
    {
     "data": {
      "text/plain": [
       "'The moving average model is a time series model that accounts for very short-run autocorrelation. It basically states\\n   that the next observation is the mean of every past observation. The order of the moving average model, q, can usually\\n   be estimated by looking at the ACF plot of the time series.\\n   A moving average term in a time series model is a past error (multiplied by a coefficient). \\n   Let w t ∼ i i d N ( 0 , σ w 2 ) ,\\n   meaning that the wt are identically, independently distributed, each with a normal distribution having mean 0 and the\\n   same variance.\\n'"
      ]
     },
     "execution_count": 7,
     "metadata": {},
     "output_type": "execute_result"
    }
   ],
   "source": [
    "# Q6\n",
    "'''The moving average model is a time series model that accounts for very short-run autocorrelation. It basically states\n",
    "   that the next observation is the mean of every past observation. The order of the moving average model, q, can usually\n",
    "   be estimated by looking at the ACF plot of the time series.\n",
    "   A moving average term in a time series model is a past error (multiplied by a coefficient). \n",
    "   Let w t ∼ i i d N ( 0 , σ w 2 ) ,\n",
    "   meaning that the wt are identically, independently distributed, each with a normal distribution having mean 0 and the\n",
    "   same variance.\n",
    "'''"
   ]
  },
  {
   "cell_type": "code",
   "execution_count": 8,
   "id": "17df5a32-3921-4f68-b8ab-26e15df35654",
   "metadata": {},
   "outputs": [
    {
     "data": {
      "text/plain": [
       "'The autoregression and moving average (ARMA) models are used in time series analysis to describe stationary time \\n   series. These models represent time series that are generated by passing white noise through a recursive and through \\n   a nonrecursive linear filter , consecutively.\\n   ARIMA combines autoregressive features with those of moving averages. An AR(1) autoregressive process, for instance, \\n   is one in which the current value is based on the immediately preceding value, while an AR(2) process is one in which\\n   the current value is based on the previous two values.\\n'"
      ]
     },
     "execution_count": 8,
     "metadata": {},
     "output_type": "execute_result"
    }
   ],
   "source": [
    "# Q7\n",
    "'''The autoregression and moving average (ARMA) models are used in time series analysis to describe stationary time \n",
    "   series. These models represent time series that are generated by passing white noise through a recursive and through \n",
    "   a nonrecursive linear filter , consecutively.\n",
    "   ARIMA combines autoregressive features with those of moving averages. An AR(1) autoregressive process, for instance, \n",
    "   is one in which the current value is based on the immediately preceding value, while an AR(2) process is one in which\n",
    "   the current value is based on the previous two values.\n",
    "'''"
   ]
  },
  {
   "cell_type": "code",
   "execution_count": null,
   "id": "3acb8874-d001-404e-94d6-8a5e75958871",
   "metadata": {},
   "outputs": [],
   "source": []
  }
 ],
 "metadata": {
  "kernelspec": {
   "display_name": "Python 3 (ipykernel)",
   "language": "python",
   "name": "python3"
  },
  "language_info": {
   "codemirror_mode": {
    "name": "ipython",
    "version": 3
   },
   "file_extension": ".py",
   "mimetype": "text/x-python",
   "name": "python",
   "nbconvert_exporter": "python",
   "pygments_lexer": "ipython3",
   "version": "3.10.8"
  }
 },
 "nbformat": 4,
 "nbformat_minor": 5
}
